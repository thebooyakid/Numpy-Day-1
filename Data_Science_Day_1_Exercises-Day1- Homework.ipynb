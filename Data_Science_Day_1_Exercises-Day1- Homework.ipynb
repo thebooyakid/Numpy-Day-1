{
 "cells": [
  {
   "cell_type": "markdown",
   "metadata": {},
   "source": [
    "# Exercises"
   ]
  },
  {
   "cell_type": "markdown",
   "metadata": {},
   "source": [
    "### #1 - Calculate the BMI (body mass index) on the two lists below using NDArrays..."
   ]
  },
  {
   "cell_type": "code",
   "execution_count": 11,
   "metadata": {},
   "outputs": [
    {
     "name": "stdout",
     "output_type": "stream",
     "text": [
      "[16.86620458 17.87755102 18.82562984 19.71450617 20.54794521 21.32943755\n",
      " 22.06222222]\n"
     ]
    }
   ],
   "source": [
    "import numpy as np\n",
    "# formula = weight / (height**2) * 730\n",
    "height = [69, 70, 71, 72, 73, 74, 75]\n",
    "weight = [110, 120, 130, 140, 150, 160, 170]\n",
    "\n",
    "# OUTPUT: [16.86620458 17.87755102 18.82562984 19.71450617 20.54794521 21.32943755\n",
    "# 22.06222222]\n",
    "h1 = np.array(height)\n",
    "w1 = np.array(weight)\n",
    "bmi = w1 / (h1**2)*730\n",
    "print(bmi)\n",
    "\n",
    "\n",
    "\n"
   ]
  },
  {
   "cell_type": "markdown",
   "metadata": {},
   "source": [
    "### #2 - Create a function that will take in two parameters and will create a random matrix based off of those parameters. Extra: Have additional parameters taken in that allow the user to choose the shape and data type of the matrix."
   ]
  },
  {
   "cell_type": "code",
   "execution_count": 34,
   "metadata": {},
   "outputs": [
    {
     "name": "stdout",
     "output_type": "stream",
     "text": [
      "[[ 7.93899985  1.2666987   4.74330908  5.83539176]\n",
      " [ 9.13472063  3.919402    8.57560754  6.19714767]\n",
      " [ 2.91630599  6.7333763  14.62807912 10.97360647]\n",
      " [ 6.44278159 11.92147673 14.40233971 13.67238457]]\n",
      "How many rows would you like in this matrix? 4\n",
      "And how many columns? 4\n",
      "\n",
      "Excellent choices, here ya go..\n",
      "\n",
      "[[13.29230351  6.17633975 11.35125621  6.50421206]\n",
      " [ 5.39410889  0.03850463 11.05377122 14.46103214]\n",
      " [ 8.95875062 13.99930496  9.76018955  5.19908589]\n",
      " [ 4.32412539  9.48310636 11.36235596 11.57574151]]\n"
     ]
    }
   ],
   "source": [
    "\"\"\"\n",
    "Example Result\n",
    "array([[14.21633515,  7.98846653,  9.64140715],\n",
    "       [ 6.30982234,  9.96414331,  8.43153688],\n",
    "       [14.73102068, 11.76072894, 14.23356121]])\n",
    "\"\"\"\n",
    "# def makeMatrix(min,max,shape,data_type = float):\n",
    "def makeMatrix(row,column):\n",
    "#     row = int(input(\"How many rows and columns would you like in your matrix?\"))\n",
    "#     column = int(input(\"And how many columns?\"))\n",
    "#     x = np.array(range(0,16)).reshape(min,max)\n",
    "    x = np.array(np.random.uniform(0,15,16)).reshape(row,column)\n",
    "    return x\n",
    "print(makeMatrix(4,4))\n",
    "\n",
    "def makeMatrix2():\n",
    "    row = int(input(\"How many rows would you like in this matrix? \"))\n",
    "    column = int(input(\"And how many columns? \"))\n",
    "    print(\"\\nExcellent choices, here ya go..\\n\")\n",
    "    q = row*column\n",
    "    x = np.array(np.random.uniform(0,15,q)).reshape(row,column)\n",
    "    return x\n",
    "print(makeMatrix2())\n",
    "    \n"
   ]
  },
  {
   "cell_type": "markdown",
   "metadata": {},
   "source": [
    "### #3 - Extra: Open and load the data in the two text files that have the Boston Red Sox hitting data for the past seasons. Compare the difference in the two years by putting the data into an NDArray and running a differencial operation on it. The column to look for will be SLG.\n",
    "\n",
    "Your output should display which year (either 2017 or 2018) was a better year based on SLG"
   ]
  },
  {
   "cell_type": "code",
   "execution_count": 58,
   "metadata": {},
   "outputs": [
    {
     "name": "stdout",
     "output_type": "stream",
     "text": [
      "[['1', 'C', 'Christian Vazquez', '26', '99', '345', '324', '43', '94', '18', '2', '5', '32', '7', '2', '17', '64', '.290', '.330', '.404', '.735', '91', '131', '14', '3', '0', '1', '0'], ['2', '1B', 'Mitch Moreland', '31', '149', '576', '508', '73', '125', '34', '0', '22', '79', '0', '1', '57', '120', '.246', '.326', '.443', '.769', '99', '225', '14', '6', '0', '5', '6']] [['1', 'C', 'Sandy Leon', '29', '89', '288', '265', '30', '47', '12', '0', '5', '22', '1', '0', '15', '75', '.177', '.232', '.279', '.511', '37', '74', '6', '4', '3', '1', '0'], ['2', '1B', 'Mitch Moreland', '32', '124', '459', '404', '57', '99', '23', '4', '15', '68', '2', '0', '50', '102', '.245', '.325', '.433', '.758', '102', '175', '12', '0', '0', '5', '2']]\n"
     ]
    }
   ],
   "source": [
    "import csv\n",
    "import numpy as np\n",
    "\n",
    "#Test to make sure you have the correct data\n",
    "def open_sesame(filename, d = ','):\n",
    "    data = []\n",
    "    with open(filename, encoding = 'utf-8') as mData:\n",
    "        info = csv.reader(mData, delimiter = d)\n",
    "        for row in info:\n",
    "            data.append(row)\n",
    "    return data\n",
    "\n",
    "csv_data2017 = open_sesame('./redsox_2017_hitting.txt')\n",
    "csv_data2018 = open_sesame('./redsox_2018_hitting.txt')\n",
    "print(csv_data2017[1:3],csv_data2018[1:3])\n"
   ]
  },
  {
   "cell_type": "code",
   "execution_count": 55,
   "metadata": {},
   "outputs": [
    {
     "name": "stdout",
     "output_type": "stream",
     "text": [
      "Boston had 3 total more SLG in 2017 than in 2018.\n",
      "Also, they had 1.296999879181385 more SLG units\n"
     ]
    }
   ],
   "source": [
    "\"\"\"\n",
    "Example Result - Not the actual result\n",
    "Boston 18 had more SLG in 2018\n",
    "[0.404 0.443 0.392 0.403 0.482 0.424 0.402 0.459 0.429 0.354 0.387 0.333\n",
    " 0.539 0.243 0.262 0.354 0.342 0.339 0.328 0.306 0.222 0.2   1.   ]\n",
    "\"\"\"\n",
    "\n",
    "FIELDS = ['Rk', 'Pos', 'Name', 'Age', 'G', 'PA', 'AB', 'R', 'H', '2B', '3B', 'HR', 'RBI', 'SB', 'CS', \n",
    "          'BB', 'SO', 'BA', 'OBP', 'SLG', 'OPS', 'OPS+', 'TB', 'GDP', 'HBP', 'SH', 'SF', 'IBB']\n",
    "\n",
    "DATATYPES = [('rk', 'i'), ('pos', '|S25'), ('name', '|S25'), ('age', 'i'), ('g', 'i'), ('pa', 'i'), ('ab', 'i'),\n",
    "                ('r', 'i'), ('h', 'i'), ('2b', 'i'), ('3b', 'i'), ('hr', 'i'), ('rbi', 'i'), ('sb', 'i'), ('cs', 'i'),\n",
    "                ('bb', 'i'), ('so', 'i'), ('ba', 'f'), ('obp', 'f'), ('slg', 'f'), ('ops', 'f'), ('opsp', 'i'),\n",
    "                ('tb', 'i'), ('gdp', 'i'), ('hbp', 'i'), ('sh', 'i'), ('sf', 'i'), ('ibb', 'i')]\n",
    "\n",
    "#Use this function to actually open the data inside of a NDArray\n",
    "def load_data(filename, d = ','):\n",
    "    data = np.genfromtxt(filename, delimiter = d, skip_header = 1,\n",
    "                        usecols = np.arange(0,24), invalid_raise = False,\n",
    "                        names = FIELDS, dtype = DATATYPES)\n",
    "    return data\n",
    "\n",
    "bs2017 = load_data('./redsox_2017_hitting.txt')\n",
    "bs2018 = load_data('./redsox_2018_hitting.txt')\n",
    "# print(bs2017)\n",
    "\n",
    "slg2017 = bs2017['SLG']\n",
    "slg2018 = bs2018['SLG']\n",
    "slg_amt_2017 = len(slg2017)\n",
    "slg_amt_2018 = len(slg2018)\n",
    "total_slg_2017 = sum(bs2017['SLG'])\n",
    "total_slg_2018 = sum(bs2018['SLG'])\n",
    "\n",
    "print(f\"Boston had {slg_amt_2017-slg_amt_2018} total more SLG in 2017 than in 2018.\")\n",
    "print(f\"Also, they had {total_slg_2017-total_slg_2018} more SLG units\")\n"
   ]
  }
 ],
 "metadata": {
  "kernelspec": {
   "display_name": "Python 3",
   "language": "python",
   "name": "python3"
  },
  "language_info": {
   "codemirror_mode": {
    "name": "ipython",
    "version": 3
   },
   "file_extension": ".py",
   "mimetype": "text/x-python",
   "name": "python",
   "nbconvert_exporter": "python",
   "pygments_lexer": "ipython3",
   "version": "3.8.5"
  }
 },
 "nbformat": 4,
 "nbformat_minor": 2
}
